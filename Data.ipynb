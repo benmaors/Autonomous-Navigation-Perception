{
  "nbformat": 4,
  "nbformat_minor": 0,
  "metadata": {
    "colab": {
      "name": "Data.ipynb",
      "provenance": [],
      "authorship_tag": "ABX9TyNoeU6FqMJVhjNWAbwJWa6X",
      "include_colab_link": true
    },
    "kernelspec": {
      "name": "python3",
      "display_name": "Python 3"
    },
    "language_info": {
      "name": "python"
    }
  },
  "cells": [
    {
      "cell_type": "markdown",
      "metadata": {
        "id": "view-in-github",
        "colab_type": "text"
      },
      "source": [
        "<a href=\"https://colab.research.google.com/github/benmaors/Autonomous-Navigation-Perception/blob/main/Data.ipynb\" target=\"_parent\"><img src=\"https://colab.research.google.com/assets/colab-badge.svg\" alt=\"Open In Colab\"/></a>"
      ]
    },
    {
      "cell_type": "code",
      "metadata": {
        "colab": {
          "base_uri": "https://localhost:8080/",
          "height": 328
        },
        "id": "aXmrMOx9-PjH",
        "outputId": "d073c721-bc29-4c8d-c0da-19f9f09877f8"
      },
      "source": [
        "import pandas as pd\n",
        "from influxdb import InfluxDBClient\n",
        "from datetime import datetime, timedelta"
      ],
      "execution_count": 1,
      "outputs": [
        {
          "output_type": "error",
          "ename": "ModuleNotFoundError",
          "evalue": "ignored",
          "traceback": [
            "\u001b[0;31m---------------------------------------------------------------------------\u001b[0m",
            "\u001b[0;31mModuleNotFoundError\u001b[0m                       Traceback (most recent call last)",
            "\u001b[0;32m<ipython-input-1-7cf31f0d5939>\u001b[0m in \u001b[0;36m<module>\u001b[0;34m()\u001b[0m\n\u001b[1;32m      1\u001b[0m \u001b[0;32mimport\u001b[0m \u001b[0mpandas\u001b[0m \u001b[0;32mas\u001b[0m \u001b[0mpd\u001b[0m\u001b[0;34m\u001b[0m\u001b[0;34m\u001b[0m\u001b[0m\n\u001b[0;32m----> 2\u001b[0;31m \u001b[0;32mfrom\u001b[0m \u001b[0minfluxdb\u001b[0m \u001b[0;32mimport\u001b[0m \u001b[0mInfluxDBClient\u001b[0m\u001b[0;34m\u001b[0m\u001b[0;34m\u001b[0m\u001b[0m\n\u001b[0m\u001b[1;32m      3\u001b[0m \u001b[0;32mfrom\u001b[0m \u001b[0mdatetime\u001b[0m \u001b[0;32mimport\u001b[0m \u001b[0mdatetime\u001b[0m\u001b[0;34m,\u001b[0m \u001b[0mtimedelta\u001b[0m\u001b[0;34m\u001b[0m\u001b[0;34m\u001b[0m\u001b[0m\n",
            "\u001b[0;31mModuleNotFoundError\u001b[0m: No module named 'influxdb'",
            "",
            "\u001b[0;31m---------------------------------------------------------------------------\u001b[0;32m\nNOTE: If your import is failing due to a missing package, you can\nmanually install dependencies using either !pip or !apt.\n\nTo view examples of installing some common dependencies, click the\n\"Open Examples\" button below.\n\u001b[0;31m---------------------------------------------------------------------------\u001b[0m\n"
          ],
          "errorDetails": {
            "actions": [
              {
                "action": "open_url",
                "actionText": "Open Examples",
                "url": "/notebooks/snippets/importing_libraries.ipynb"
              }
            ]
          }
        }
      ]
    },
    {
      "cell_type": "code",
      "metadata": {
        "id": "dpg8GBGj-T2f"
      },
      "source": [
        "# event data\n",
        "ship_host_name = 'shell-macoma' # matches host name in influx\n",
        "event_datetime = '2021-09-28T21:30:00Z' #you can define your own event start time and end time\n",
        "event_target_id =  477269500\n",
        "influx_address = 'ec2-3-215-253-189.compute-1.amazonaws.com'\n",
        "time_delta = 45"
      ],
      "execution_count": 2,
      "outputs": []
    },
    {
      "cell_type": "code",
      "metadata": {
        "colab": {
          "base_uri": "https://localhost:8080/",
          "height": 228
        },
        "id": "c90qLhd2-arB",
        "outputId": "ca949355-7f32-478c-f869-b230586eab1c"
      },
      "source": [
        "# getting data functions\n",
        "def _serialize_time(time: datetime):\n",
        "    res= datetime.strptime(time,'%Y-%m-%dT%H:%M:%SZ')\n",
        "    res=res.strftime('%Y-%m-%dT%H:%M:%SZ')\n",
        "    return res\n",
        "def connect(q,to = influx_address):\n",
        "    client = InfluxDBClient(to)\n",
        "    results = client.query(q)\n",
        "    return results\n",
        "def time_to_timestemp(time_col,time_format='%Y-%m-%dT%H:%M:%SZ',resolotion=-9,res_error='0'):\n",
        "    res=time_col.apply(lambda x : x[:resolotion]+res_error+'Z')\n",
        "    res=res.apply(lambda x: datetime.strptime( x,time_format))\n",
        "    return res\n",
        "def get_ais_data(dataname, s_time, e_time):\n",
        "    q= f'SELECT \"time\",\"latitude\",\"longitude\",\"target_id\",\"distance\" FROM {dataname} WHERE time >= \\'{s_time}\\' AND time <= \\'{e_time}\\' '\n",
        "    res = connect(q)\n",
        "    df= pd.DataFrame(res.get_points())\n",
        "    return df\n",
        "def get_own_data(dataname, s_time, e_time):\n",
        "    q= f'SELECT \"time\",\"latitude\",\"longitude\" FROM {dataname} WHERE time >= \\'{s_time}\\' AND time <= \\'{e_time}\\' '\n",
        "    res = connect(q)\n",
        "    df= pd.DataFrame(res.get_points())\n",
        "    return df"
      ],
      "execution_count": 3,
      "outputs": [
        {
          "output_type": "error",
          "ename": "NameError",
          "evalue": "ignored",
          "traceback": [
            "\u001b[0;31m---------------------------------------------------------------------------\u001b[0m",
            "\u001b[0;31mNameError\u001b[0m                                 Traceback (most recent call last)",
            "\u001b[0;32m<ipython-input-3-ff48eeedad24>\u001b[0m in \u001b[0;36m<module>\u001b[0;34m()\u001b[0m\n\u001b[1;32m      1\u001b[0m \u001b[0;31m# getting data functions\u001b[0m\u001b[0;34m\u001b[0m\u001b[0;34m\u001b[0m\u001b[0;34m\u001b[0m\u001b[0m\n\u001b[0;32m----> 2\u001b[0;31m \u001b[0;32mdef\u001b[0m \u001b[0m_serialize_time\u001b[0m\u001b[0;34m(\u001b[0m\u001b[0mtime\u001b[0m\u001b[0;34m:\u001b[0m \u001b[0mdatetime\u001b[0m\u001b[0;34m)\u001b[0m\u001b[0;34m:\u001b[0m\u001b[0;34m\u001b[0m\u001b[0;34m\u001b[0m\u001b[0m\n\u001b[0m\u001b[1;32m      3\u001b[0m     \u001b[0mres\u001b[0m\u001b[0;34m=\u001b[0m \u001b[0mdatetime\u001b[0m\u001b[0;34m.\u001b[0m\u001b[0mstrptime\u001b[0m\u001b[0;34m(\u001b[0m\u001b[0mtime\u001b[0m\u001b[0;34m,\u001b[0m\u001b[0;34m'%Y-%m-%dT%H:%M:%SZ'\u001b[0m\u001b[0;34m)\u001b[0m\u001b[0;34m\u001b[0m\u001b[0;34m\u001b[0m\u001b[0m\n\u001b[1;32m      4\u001b[0m     \u001b[0mres\u001b[0m\u001b[0;34m=\u001b[0m\u001b[0mres\u001b[0m\u001b[0;34m.\u001b[0m\u001b[0mstrftime\u001b[0m\u001b[0;34m(\u001b[0m\u001b[0;34m'%Y-%m-%dT%H:%M:%SZ'\u001b[0m\u001b[0;34m)\u001b[0m\u001b[0;34m\u001b[0m\u001b[0;34m\u001b[0m\u001b[0m\n\u001b[1;32m      5\u001b[0m     \u001b[0;32mreturn\u001b[0m \u001b[0mres\u001b[0m\u001b[0;34m\u001b[0m\u001b[0;34m\u001b[0m\u001b[0m\n",
            "\u001b[0;31mNameError\u001b[0m: name 'datetime' is not defined"
          ]
        }
      ]
    },
    {
      "cell_type": "code",
      "metadata": {
        "colab": {
          "base_uri": "https://localhost:8080/",
          "height": 228
        },
        "id": "seuyXfyg-e8w",
        "outputId": "37dac138-c052-4389-a47d-e25e0f89c051"
      },
      "source": [
        "# getting the data\n",
        "ais_data = f'\"{ship_host_name}\".\"autogen\".\"ais_targets\"'\n",
        "own_data = f'\"{ship_host_name}\".\"autogen\".\"gps_position\"'\n",
        "event_datetime = pd.to_datetime(event_datetime)\n",
        "start_datetime = event_datetime - timedelta(minutes = time_delta)\n",
        "end_datetime = event_datetime + timedelta(minutes = time_delta)\n",
        "start_datetime = _serialize_time(start_datetime.strftime('%Y-%m-%dT%H:%M:%SZ'))\n",
        "end_datetime = _serialize_time(end_datetime.strftime('%Y-%m-%dT%H:%M:%SZ'))\n",
        "df_ais_data = get_ais_data(ais_data, start_datetime, end_datetime)\n",
        "df_own_data = get_own_data(own_data,  start_datetime, end_datetime)"
      ],
      "execution_count": 4,
      "outputs": [
        {
          "output_type": "error",
          "ename": "NameError",
          "evalue": "ignored",
          "traceback": [
            "\u001b[0;31m---------------------------------------------------------------------------\u001b[0m",
            "\u001b[0;31mNameError\u001b[0m                                 Traceback (most recent call last)",
            "\u001b[0;32m<ipython-input-4-7d3f713f520e>\u001b[0m in \u001b[0;36m<module>\u001b[0;34m()\u001b[0m\n\u001b[1;32m      3\u001b[0m \u001b[0mown_data\u001b[0m \u001b[0;34m=\u001b[0m \u001b[0;34mf'\"{ship_host_name}\".\"autogen\".\"gps_position\"'\u001b[0m\u001b[0;34m\u001b[0m\u001b[0;34m\u001b[0m\u001b[0m\n\u001b[1;32m      4\u001b[0m \u001b[0mevent_datetime\u001b[0m \u001b[0;34m=\u001b[0m \u001b[0mpd\u001b[0m\u001b[0;34m.\u001b[0m\u001b[0mto_datetime\u001b[0m\u001b[0;34m(\u001b[0m\u001b[0mevent_datetime\u001b[0m\u001b[0;34m)\u001b[0m\u001b[0;34m\u001b[0m\u001b[0;34m\u001b[0m\u001b[0m\n\u001b[0;32m----> 5\u001b[0;31m \u001b[0mstart_datetime\u001b[0m \u001b[0;34m=\u001b[0m \u001b[0mevent_datetime\u001b[0m \u001b[0;34m-\u001b[0m \u001b[0mtimedelta\u001b[0m\u001b[0;34m(\u001b[0m\u001b[0mminutes\u001b[0m \u001b[0;34m=\u001b[0m \u001b[0mtime_delta\u001b[0m\u001b[0;34m)\u001b[0m\u001b[0;34m\u001b[0m\u001b[0;34m\u001b[0m\u001b[0m\n\u001b[0m\u001b[1;32m      6\u001b[0m \u001b[0mend_datetime\u001b[0m \u001b[0;34m=\u001b[0m \u001b[0mevent_datetime\u001b[0m \u001b[0;34m+\u001b[0m \u001b[0mtimedelta\u001b[0m\u001b[0;34m(\u001b[0m\u001b[0mminutes\u001b[0m \u001b[0;34m=\u001b[0m \u001b[0mtime_delta\u001b[0m\u001b[0;34m)\u001b[0m\u001b[0;34m\u001b[0m\u001b[0;34m\u001b[0m\u001b[0m\n\u001b[1;32m      7\u001b[0m \u001b[0mstart_datetime\u001b[0m \u001b[0;34m=\u001b[0m \u001b[0m_serialize_time\u001b[0m\u001b[0;34m(\u001b[0m\u001b[0mstart_datetime\u001b[0m\u001b[0;34m.\u001b[0m\u001b[0mstrftime\u001b[0m\u001b[0;34m(\u001b[0m\u001b[0;34m'%Y-%m-%dT%H:%M:%SZ'\u001b[0m\u001b[0;34m)\u001b[0m\u001b[0;34m)\u001b[0m\u001b[0;34m\u001b[0m\u001b[0;34m\u001b[0m\u001b[0m\n",
            "\u001b[0;31mNameError\u001b[0m: name 'timedelta' is not defined"
          ]
        }
      ]
    },
    {
      "cell_type": "code",
      "metadata": {
        "id": "wXP9hMF7-k3A"
      },
      "source": [
        ""
      ],
      "execution_count": null,
      "outputs": []
    }
  ]
}